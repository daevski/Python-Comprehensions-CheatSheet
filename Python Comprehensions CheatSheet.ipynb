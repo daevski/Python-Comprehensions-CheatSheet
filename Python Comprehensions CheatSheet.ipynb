{
 "cells": [
  {
   "cell_type": "markdown",
   "metadata": {},
   "source": [
    "# Python Comprehensions CheatSheet\n",
    "*Credit to [Corey Schafer](https://www.youtube.com/watch?v=3dt4OGnU5sM) for these comprehension examples*."
   ]
  },
  {
   "cell_type": "markdown",
   "metadata": {},
   "source": [
    "## Table of Contents\n",
    "1. Lists\n",
    "    1. [[n for n in nums]](#[n-for-n-in-nums])\n",
    "    1. [[n * n for n in nums]](#[n-*-n-for-n-in-nums])\n",
    "    1. [[n for n in nums if n%2 == 0]](#[n-for-n-in-nums-if-n%2-==-0])\n",
    "    1. [[(letter, num) for letter in 'abcd' for num in range(4)]](#[(letter,-num)-for-letter-in-'abcd'-for-num-in-range(4)])\n",
    "1. Dictionaries\n",
    "    1. [{name: hero for name, hero in zip(names, heros)}](#{name:-hero-for-name,-hero-in-zip(names,-heros)})\n",
    "    1. [{name: hero for name, hero in zip(names, heros) if name != 'Peter'}](#{name:-hero-for-name,-hero-in-zip(names,-heros)-if-name-!=-'Peter'})\n",
    "1. Sets\n",
    "    1. [{n for n in nums}](#{n-for-n-in-nums})\n",
    "1. Bonus: Generator Expressions\n",
    "    1. [(n * n for n in nums)](#(n-*-n-for-n-in-nums))"
   ]
  },
  {
   "cell_type": "markdown",
   "metadata": {},
   "source": [
    "## [n for n in nums]\n",
    "\n",
    "> A direct list copy. \n",
    ">\"*I want 'n' for each 'n' in nums*\""
   ]
  },
  {
   "cell_type": "code",
   "execution_count": 1,
   "metadata": {},
   "outputs": [
    {
     "name": "stdout",
     "output_type": "stream",
     "text": [
      "Loop: \n",
      "[1, 2, 3, 4, 5, 6, 7, 8, 9, 10]\n",
      "Comprehension: \n",
      "[1, 2, 3, 4, 5, 6, 7, 8, 9, 10]\n"
     ]
    }
   ],
   "source": [
    "nums = [1,2,3,4,5,6,7,8,9,10]\n",
    "\n",
    "# LOOP \n",
    "loop_list = []\n",
    "for n in nums:\n",
    "  loop_list.append(n)\n",
    "print(\"Loop: \")\n",
    "print(loop_list)\n",
    "\n",
    "# COMPREHENSION\n",
    "nums = [1,2,3,4,5,6,7,8,9,10]\n",
    "comp_list = [n for n in nums]\n",
    "print(\"Comprehension: \")\n",
    "print(comp_list)"
   ]
  },
  {
   "cell_type": "markdown",
   "metadata": {},
   "source": [
    "## [n * n for n in nums]\n",
    "> A list of 'n' modified by an expression. \"*I want 'n * n' for each 'n' in nums*\""
   ]
  },
  {
   "cell_type": "code",
   "execution_count": 2,
   "metadata": {
    "scrolled": true
   },
   "outputs": [
    {
     "name": "stdout",
     "output_type": "stream",
     "text": [
      "Loop: \n",
      "[1, 4, 9, 16, 25, 36, 49, 64, 81, 100]\n",
      "Map + Lambda: \n",
      "[1, 4, 9, 16, 25, 36, 49, 64, 81, 100]\n",
      "Comprehension: \n",
      "[1, 4, 9, 16, 25, 36, 49, 64, 81, 100]\n"
     ]
    }
   ],
   "source": [
    "nums = [1,2,3,4,5,6,7,8,9,10]\n",
    "\n",
    "# LOOP \n",
    "loop_list = []\n",
    "for n in nums:\n",
    "  loop_list.append(n*n)\n",
    "print(\"Loop: \")\n",
    "print(loop_list)\n",
    "\n",
    "# Using a map + lambda\n",
    "map_list = map(lambda n: n*n, nums)\n",
    "print(\"Map + Lambda: \")\n",
    "print(list(map_list))\n",
    "\n",
    "# COMPREHENSION\n",
    "nums = [1,2,3,4,5,6,7,8,9,10]\n",
    "comp_list = [n*n for n in nums]\n",
    "print(\"Comprehension: \")\n",
    "print(comp_list)"
   ]
  },
  {
   "cell_type": "markdown",
   "metadata": {},
   "source": [
    "## [n for n in nums if n%2 == 0]\n",
    "> A list of 'n' only if 'n' causes the expression to equal `True`. \"*I want 'n' for 'n' in nums if 'n' is even*\""
   ]
  },
  {
   "cell_type": "code",
   "execution_count": 3,
   "metadata": {},
   "outputs": [
    {
     "name": "stdout",
     "output_type": "stream",
     "text": [
      "Loop: \n",
      "[2, 4, 6, 8, 10]\n",
      "Filter + Lambda: \n",
      "[2, 4, 6, 8, 10]\n",
      "Comprehension: \n",
      "[2, 4, 6, 8, 10]\n"
     ]
    }
   ],
   "source": [
    "nums = [1,2,3,4,5,6,7,8,9,10]\n",
    "\n",
    "# LOOP\n",
    "loop_list = []\n",
    "for n in nums:\n",
    "  if n%2 == 0:\n",
    "    loop_list.append(n)\n",
    "print(\"Loop: \")\n",
    "print(loop_list)\n",
    "\n",
    "# Using a filter + lambda\n",
    "filter_list = filter(lambda n: n%2 == 0, nums)\n",
    "print(\"Filter + Lambda: \")\n",
    "print(list(filter_list))\n",
    "\n",
    "# COMPREHENSION\n",
    "comp_list = [n for n in nums if n%2 == 0]\n",
    "print(\"Comprehension: \")\n",
    "print(comp_list)"
   ]
  },
  {
   "cell_type": "markdown",
   "metadata": {},
   "source": [
    "# [(letter, num) for letter in 'abcd' for num in range(4)]\n",
    "> Nested `for` loops that return a tuple. \"*I want a (letter, num) pair for each letter in 'abcd' and each number in '0123'* \""
   ]
  },
  {
   "cell_type": "code",
   "execution_count": 4,
   "metadata": {},
   "outputs": [
    {
     "name": "stdout",
     "output_type": "stream",
     "text": [
      "Loop: \n",
      "[('a', 0), ('a', 1), ('a', 2), ('a', 3), ('b', 0), ('b', 1), ('b', 2), ('b', 3), ('c', 0), ('c', 1), ('c', 2), ('c', 3), ('d', 0), ('d', 1), ('d', 2), ('d', 3)]\n",
      "Comprehension: \n",
      "[('a', 0), ('a', 1), ('a', 2), ('a', 3), ('b', 0), ('b', 1), ('b', 2), ('b', 3), ('c', 0), ('c', 1), ('c', 2), ('c', 3), ('d', 0), ('d', 1), ('d', 2), ('d', 3)]\n"
     ]
    }
   ],
   "source": [
    "nums = [1,2,3,4,5,6,7,8,9,10]\n",
    "\n",
    "# LOOP\n",
    "loop_list = []\n",
    "for letter in 'abcd':\n",
    "  for num in range(4):\n",
    "    loop_list.append((letter,num))\n",
    "print(\"Loop: \")\n",
    "print(loop_list)\n",
    "\n",
    "# COMPREHENSION\n",
    "comp_list = [(letter, num) for letter in 'abcd' for num in range(4)]\n",
    "print(\"Comprehension: \")\n",
    "print(comp_list)"
   ]
  },
  {
   "cell_type": "markdown",
   "metadata": {},
   "source": [
    "# {name: hero for name, hero in zip(names, heros)}\n",
    "> Using `zip` to combine two lists into a dictionary. \"*I want a dict{'name': 'hero'} for each name,hero in zip(names, heros)*\""
   ]
  },
  {
   "cell_type": "code",
   "execution_count": 5,
   "metadata": {},
   "outputs": [
    {
     "name": "stdout",
     "output_type": "stream",
     "text": [
      "Loop: \n",
      "{'Logan': 'Wolverine', 'Bruce': 'Batman', 'Wade': 'Deadpool', 'Clark': 'Superman', 'Peter': 'Spiderman'}\n",
      "Comprehension: \n",
      "{'Logan': 'Wolverine', 'Bruce': 'Batman', 'Wade': 'Deadpool', 'Clark': 'Superman', 'Peter': 'Spiderman'}\n"
     ]
    }
   ],
   "source": [
    "names = ['Bruce', 'Clark', 'Peter', 'Logan', 'Wade']\n",
    "heros = ['Batman', 'Superman', 'Spiderman', 'Wolverine', 'Deadpool']\n",
    "\n",
    "# LOOP\n",
    "loop_dict = {}\n",
    "for name, hero in zip(names, heros):\n",
    "    loop_dict[name] = hero\n",
    "print(\"Loop: \")\n",
    "print(loop_dict)\n",
    "\n",
    "# COMPREHENSION\n",
    "comp_dict = {name: hero for name, hero in zip(names, heros)}\n",
    "print(\"Comprehension: \")\n",
    "print(comp_dict)"
   ]
  },
  {
   "cell_type": "markdown",
   "metadata": {},
   "source": [
    "## {name: hero for name, hero in zip(names, heros) if name != 'Peter'}\n",
    "> Using `zip` to combine two lists into a dictionary, omitting any that have 'Peter' for the name. \"*I want a dict{'name': 'hero'} for each name,hero in zip(names, heros) only if the expression is to equal `True`.*\""
   ]
  },
  {
   "cell_type": "code",
   "execution_count": 6,
   "metadata": {},
   "outputs": [
    {
     "name": "stdout",
     "output_type": "stream",
     "text": [
      "Loop: \n",
      "{'Logan': 'Wolverine', 'Bruce': 'Batman', 'Wade': 'Deadpool', 'Clark': 'Superman'}\n",
      "Comprehension: \n",
      "{'Logan': 'Wolverine', 'Bruce': 'Batman', 'Wade': 'Deadpool', 'Clark': 'Superman'}\n"
     ]
    }
   ],
   "source": [
    "names = ['Bruce', 'Clark', 'Peter', 'Logan', 'Wade']\n",
    "heros = ['Batman', 'Superman', 'Spiderman', 'Wolverine', 'Deadpool']\n",
    "\n",
    "# LOOP\n",
    "loop_dict = {}\n",
    "for name, hero in zip(names, heros):\n",
    "    if name != 'Peter':\n",
    "        loop_dict[name] = hero\n",
    "print(\"Loop: \")\n",
    "print(loop_dict)\n",
    "\n",
    "# COMPREHENSION\n",
    "comp_dict = {name: hero for name, hero in zip(names, heros) if name != 'Peter'}\n",
    "print(\"Comprehension: \")\n",
    "print(comp_dict)"
   ]
  },
  {
   "cell_type": "markdown",
   "metadata": {},
   "source": [
    "## {n for n in nums}\n",
    "> Copies a `list` 'nums' into a new `set()`. \"*I want a unique set of items from a list*\""
   ]
  },
  {
   "cell_type": "code",
   "execution_count": 7,
   "metadata": {
    "scrolled": true
   },
   "outputs": [
    {
     "name": "stdout",
     "output_type": "stream",
     "text": [
      "Loop: \n",
      "{1, 2, 3, 4, 5, 6, 7, 8, 9}\n",
      "Comprehension: \n",
      "{1, 2, 3, 4, 5, 6, 7, 8, 9}\n"
     ]
    }
   ],
   "source": [
    "nums = [1,1,2,1,3,4,3,4,5,5,6,7,8,7,9,9]\n",
    "\n",
    "# LOOP\n",
    "loop_set = set()\n",
    "for n in nums:\n",
    "    loop_set.add(n)\n",
    "print(\"Loop: \")\n",
    "print(loop_set)\n",
    "\n",
    "# COMPREHENSION\n",
    "comp_set = {n for n in nums}\n",
    "print(\"Comprehension: \")\n",
    "print(comp_set)"
   ]
  },
  {
   "cell_type": "markdown",
   "metadata": {},
   "source": [
    "## (n * n for n in nums)\n",
    "> Create a generator. \"*I want to yield 'n * n' for each 'n' in nums*\""
   ]
  },
  {
   "cell_type": "code",
   "execution_count": 8,
   "metadata": {},
   "outputs": [
    {
     "name": "stdout",
     "output_type": "stream",
     "text": [
      "Loop: \n",
      "1\n",
      "4\n",
      "9\n",
      "16\n",
      "25\n",
      "36\n",
      "49\n",
      "64\n",
      "81\n",
      "100\n",
      "\n",
      "Comprehension: \n",
      "1\n",
      "4\n",
      "9\n",
      "16\n",
      "25\n",
      "36\n",
      "49\n",
      "64\n",
      "81\n",
      "100\n"
     ]
    }
   ],
   "source": [
    "nums = [1,2,3,4,5,6,7,8,9,10]\n",
    "\n",
    "# LOOP\n",
    "def gen_func(nums):\n",
    "    for n in nums:\n",
    "        yield n*n\n",
    "\n",
    "loop_gen = gen_func(nums)\n",
    "\n",
    "print(\"Loop: \")\n",
    "for i in loop_gen:\n",
    "    print(i)\n",
    "    \n",
    "# COMPREHENSION\n",
    "comp_gen = (n*n for n in nums)\n",
    "print(\"\\nComprehension: \")\n",
    "for i in comp_gen:\n",
    "    print(i)"
   ]
  }
 ],
 "metadata": {
  "kernelspec": {
   "display_name": "Python 3",
   "language": "python",
   "name": "python3"
  },
  "language_info": {
   "codemirror_mode": {
    "name": "ipython",
    "version": 3
   },
   "file_extension": ".py",
   "mimetype": "text/x-python",
   "name": "python",
   "nbconvert_exporter": "python",
   "pygments_lexer": "ipython3",
   "version": "3.5.2"
  }
 },
 "nbformat": 4,
 "nbformat_minor": 2
}
